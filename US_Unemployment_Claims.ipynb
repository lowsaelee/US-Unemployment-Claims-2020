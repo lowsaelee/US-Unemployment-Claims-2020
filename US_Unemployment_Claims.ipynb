{
 "cells": [
  {
   "cell_type": "markdown",
   "metadata": {},
   "source": [
    "Importing packages"
   ]
  },
  {
   "cell_type": "code",
   "execution_count": 1,
   "metadata": {},
   "outputs": [],
   "source": [
    "import pandas as pd\n",
    "import numpy as np\n",
    "import matplotlib.pyplot as plt"
   ]
  },
  {
   "cell_type": "markdown",
   "metadata": {},
   "source": [
    "Reading in data"
   ]
  },
  {
   "cell_type": "code",
   "execution_count": 2,
   "metadata": {},
   "outputs": [],
   "source": [
    "df = pd.read_csv(\"USUnemploymentClaims.csv\")"
   ]
  },
  {
   "cell_type": "code",
   "execution_count": 3,
   "metadata": {},
   "outputs": [
    {
     "data": {
      "text/html": [
       "<div>\n",
       "<style scoped>\n",
       "    .dataframe tbody tr th:only-of-type {\n",
       "        vertical-align: middle;\n",
       "    }\n",
       "\n",
       "    .dataframe tbody tr th {\n",
       "        vertical-align: top;\n",
       "    }\n",
       "\n",
       "    .dataframe thead th {\n",
       "        text-align: right;\n",
       "    }\n",
       "</style>\n",
       "<table border=\"1\" class=\"dataframe\">\n",
       "  <thead>\n",
       "    <tr style=\"text-align: right;\">\n",
       "      <th></th>\n",
       "      <th>Report Date</th>\n",
       "      <th>Claims</th>\n",
       "      <th>Change</th>\n",
       "    </tr>\n",
       "  </thead>\n",
       "  <tbody>\n",
       "    <tr>\n",
       "      <th>0</th>\n",
       "      <td>12/28/2019</td>\n",
       "      <td>223000</td>\n",
       "      <td>-2000</td>\n",
       "    </tr>\n",
       "    <tr>\n",
       "      <th>1</th>\n",
       "      <td>1/4/2020</td>\n",
       "      <td>214000</td>\n",
       "      <td>-9000</td>\n",
       "    </tr>\n",
       "    <tr>\n",
       "      <th>2</th>\n",
       "      <td>1/11/2020</td>\n",
       "      <td>205000</td>\n",
       "      <td>-9000</td>\n",
       "    </tr>\n",
       "    <tr>\n",
       "      <th>3</th>\n",
       "      <td>1/18/2020</td>\n",
       "      <td>223000</td>\n",
       "      <td>18000</td>\n",
       "    </tr>\n",
       "    <tr>\n",
       "      <th>4</th>\n",
       "      <td>1/25/2020</td>\n",
       "      <td>217000</td>\n",
       "      <td>-6000</td>\n",
       "    </tr>\n",
       "  </tbody>\n",
       "</table>\n",
       "</div>"
      ],
      "text/plain": [
       "  Report Date  Claims  Change\n",
       "0  12/28/2019  223000   -2000\n",
       "1    1/4/2020  214000   -9000\n",
       "2   1/11/2020  205000   -9000\n",
       "3   1/18/2020  223000   18000\n",
       "4   1/25/2020  217000   -6000"
      ]
     },
     "execution_count": 3,
     "metadata": {},
     "output_type": "execute_result"
    }
   ],
   "source": [
    "df.head()"
   ]
  },
  {
   "cell_type": "code",
   "execution_count": 4,
   "metadata": {},
   "outputs": [
    {
     "data": {
      "text/html": [
       "<div>\n",
       "<style scoped>\n",
       "    .dataframe tbody tr th:only-of-type {\n",
       "        vertical-align: middle;\n",
       "    }\n",
       "\n",
       "    .dataframe tbody tr th {\n",
       "        vertical-align: top;\n",
       "    }\n",
       "\n",
       "    .dataframe thead th {\n",
       "        text-align: right;\n",
       "    }\n",
       "</style>\n",
       "<table border=\"1\" class=\"dataframe\">\n",
       "  <thead>\n",
       "    <tr style=\"text-align: right;\">\n",
       "      <th></th>\n",
       "      <th>Report Date</th>\n",
       "      <th>Claims</th>\n",
       "      <th>Change</th>\n",
       "    </tr>\n",
       "  </thead>\n",
       "  <tbody>\n",
       "    <tr>\n",
       "      <th>0</th>\n",
       "      <td>12/28/2019</td>\n",
       "      <td>223000</td>\n",
       "      <td>-2000</td>\n",
       "    </tr>\n",
       "    <tr>\n",
       "      <th>1</th>\n",
       "      <td>1/4/2020</td>\n",
       "      <td>214000</td>\n",
       "      <td>-9000</td>\n",
       "    </tr>\n",
       "    <tr>\n",
       "      <th>2</th>\n",
       "      <td>1/11/2020</td>\n",
       "      <td>205000</td>\n",
       "      <td>-9000</td>\n",
       "    </tr>\n",
       "    <tr>\n",
       "      <th>3</th>\n",
       "      <td>1/18/2020</td>\n",
       "      <td>223000</td>\n",
       "      <td>18000</td>\n",
       "    </tr>\n",
       "    <tr>\n",
       "      <th>4</th>\n",
       "      <td>1/25/2020</td>\n",
       "      <td>217000</td>\n",
       "      <td>-6000</td>\n",
       "    </tr>\n",
       "    <tr>\n",
       "      <th>5</th>\n",
       "      <td>2/1/2020</td>\n",
       "      <td>203000</td>\n",
       "      <td>-14000</td>\n",
       "    </tr>\n",
       "    <tr>\n",
       "      <th>6</th>\n",
       "      <td>2/8/2020</td>\n",
       "      <td>206000</td>\n",
       "      <td>3000</td>\n",
       "    </tr>\n",
       "    <tr>\n",
       "      <th>7</th>\n",
       "      <td>2/15/2020</td>\n",
       "      <td>211000</td>\n",
       "      <td>5000</td>\n",
       "    </tr>\n",
       "    <tr>\n",
       "      <th>8</th>\n",
       "      <td>2/22/2020</td>\n",
       "      <td>219000</td>\n",
       "      <td>8000</td>\n",
       "    </tr>\n",
       "    <tr>\n",
       "      <th>9</th>\n",
       "      <td>2/29/2020</td>\n",
       "      <td>215000</td>\n",
       "      <td>-4000</td>\n",
       "    </tr>\n",
       "    <tr>\n",
       "      <th>10</th>\n",
       "      <td>3/7/2020</td>\n",
       "      <td>211000</td>\n",
       "      <td>-4000</td>\n",
       "    </tr>\n",
       "    <tr>\n",
       "      <th>11</th>\n",
       "      <td>3/14/2020</td>\n",
       "      <td>282000</td>\n",
       "      <td>71000</td>\n",
       "    </tr>\n",
       "    <tr>\n",
       "      <th>12</th>\n",
       "      <td>3/21/2020</td>\n",
       "      <td>3307000</td>\n",
       "      <td>3025000</td>\n",
       "    </tr>\n",
       "    <tr>\n",
       "      <th>13</th>\n",
       "      <td>3/28/2020</td>\n",
       "      <td>6867000</td>\n",
       "      <td>3560000</td>\n",
       "    </tr>\n",
       "    <tr>\n",
       "      <th>14</th>\n",
       "      <td>4/4/2020</td>\n",
       "      <td>6606000</td>\n",
       "      <td>-261000</td>\n",
       "    </tr>\n",
       "    <tr>\n",
       "      <th>15</th>\n",
       "      <td>4/11/2020</td>\n",
       "      <td>5237000</td>\n",
       "      <td>-1361000</td>\n",
       "    </tr>\n",
       "    <tr>\n",
       "      <th>16</th>\n",
       "      <td>4/18/2020</td>\n",
       "      <td>4442000</td>\n",
       "      <td>-810000</td>\n",
       "    </tr>\n",
       "    <tr>\n",
       "      <th>17</th>\n",
       "      <td>4/25/2020</td>\n",
       "      <td>3839000</td>\n",
       "      <td>-603000</td>\n",
       "    </tr>\n",
       "  </tbody>\n",
       "</table>\n",
       "</div>"
      ],
      "text/plain": [
       "   Report Date   Claims   Change\n",
       "0   12/28/2019   223000    -2000\n",
       "1     1/4/2020   214000    -9000\n",
       "2    1/11/2020   205000    -9000\n",
       "3    1/18/2020   223000    18000\n",
       "4    1/25/2020   217000    -6000\n",
       "5     2/1/2020   203000   -14000\n",
       "6     2/8/2020   206000     3000\n",
       "7    2/15/2020   211000     5000\n",
       "8    2/22/2020   219000     8000\n",
       "9    2/29/2020   215000    -4000\n",
       "10    3/7/2020   211000    -4000\n",
       "11   3/14/2020   282000    71000\n",
       "12   3/21/2020  3307000  3025000\n",
       "13   3/28/2020  6867000  3560000\n",
       "14    4/4/2020  6606000  -261000\n",
       "15   4/11/2020  5237000 -1361000\n",
       "16   4/18/2020  4442000  -810000\n",
       "17   4/25/2020  3839000  -603000"
      ]
     },
     "execution_count": 4,
     "metadata": {},
     "output_type": "execute_result"
    }
   ],
   "source": [
    "df"
   ]
  },
  {
   "cell_type": "code",
   "execution_count": 5,
   "metadata": {},
   "outputs": [
    {
     "data": {
      "image/png": "[encoded data removed]",
      "text/plain": [
       "<Figure size 432x288 with 1 Axes>"
      ]
     },
     "metadata": {
      "needs_background": "light"
     },
     "output_type": "display_data"
    }
   ],
   "source": [
    "import matplotlib as mpl\n",
    "\n",
    "#df['Report Date'] = df['Report Date'].str.slice(0, -5)\n",
    "#print(df['Report Date'][0])\n",
    "\n",
    "df['ClaimsMil'] = df['Claims']/1000000\n",
    "\n",
    "\n",
    "plt.plot(df['Report Date'][1:],df['ClaimsMil'][1:])\n",
    "plt.title(\"US - Weekly Unemployment Claims - 2020\",fontsize=14)\n",
    "plt.xlabel(\"Date\")\n",
    "\n",
    "plt.xticks(rotation=90)\n",
    "\n",
    "plt.ylabel(\"Claims (in Millions)\")\n",
    "#plt.yticks(np.arange(0,10000000,1000000))\n",
    "#plt.yticks([0, 1],[\"1,000,000\",\"2,000,000\",\"3,000,000\",\"4,000,000\",\"5,000,000\",\"6,000,000\",\"7,000,000\"])\n",
    "plt.grid()\n"
   ]
  },
  {
   "cell_type": "code",
   "execution_count": 6,
   "metadata": {},
   "outputs": [
    {
     "data": {
      "text/plain": [
       "Text(0, 0.5, 'Claims')"
      ]
     },
     "execution_count": 6,
     "metadata": {},
     "output_type": "execute_result"
    },
    {
     "data": {
      "image/png": "[encoded data removed]",
      "text/plain": [
       "<Figure size 432x288 with 1 Axes>"
      ]
     },
     "metadata": {
      "needs_background": "light"
     },
     "output_type": "display_data"
    }
   ],
   "source": [
    "plt.plot(df['Report Date'],df['Change'],'*-b')\n",
    "plt.title(\"US - Weekly Unemployment Claims Changes\",fontsize=14)\n",
    "plt.xlabel(\"Date\")\n",
    "plt.xticks(rotation=90)\n",
    "plt.ylabel(\"Claims\")"
   ]
  },
  {
   "cell_type": "code",
   "execution_count": 7,
   "metadata": {},
   "outputs": [
    {
     "data": {
      "text/html": [
       "<div>\n",
       "<style scoped>\n",
       "    .dataframe tbody tr th:only-of-type {\n",
       "        vertical-align: middle;\n",
       "    }\n",
       "\n",
       "    .dataframe tbody tr th {\n",
       "        vertical-align: top;\n",
       "    }\n",
       "\n",
       "    .dataframe thead th {\n",
       "        text-align: right;\n",
       "    }\n",
       "</style>\n",
       "<table border=\"1\" class=\"dataframe\">\n",
       "  <thead>\n",
       "    <tr style=\"text-align: right;\">\n",
       "      <th></th>\n",
       "      <th>Report Date</th>\n",
       "      <th>Claims</th>\n",
       "      <th>Change</th>\n",
       "      <th>ClaimsMil</th>\n",
       "      <th>Percentage</th>\n",
       "    </tr>\n",
       "  </thead>\n",
       "  <tbody>\n",
       "    <tr>\n",
       "      <th>0</th>\n",
       "      <td>12/28/2019</td>\n",
       "      <td>223000</td>\n",
       "      <td>-2000</td>\n",
       "      <td>0.223</td>\n",
       "      <td>0.00</td>\n",
       "    </tr>\n",
       "    <tr>\n",
       "      <th>1</th>\n",
       "      <td>1/4/2020</td>\n",
       "      <td>214000</td>\n",
       "      <td>-9000</td>\n",
       "      <td>0.214</td>\n",
       "      <td>-4.04</td>\n",
       "    </tr>\n",
       "    <tr>\n",
       "      <th>2</th>\n",
       "      <td>1/11/2020</td>\n",
       "      <td>205000</td>\n",
       "      <td>-9000</td>\n",
       "      <td>0.205</td>\n",
       "      <td>-4.21</td>\n",
       "    </tr>\n",
       "    <tr>\n",
       "      <th>3</th>\n",
       "      <td>1/18/2020</td>\n",
       "      <td>223000</td>\n",
       "      <td>18000</td>\n",
       "      <td>0.223</td>\n",
       "      <td>8.78</td>\n",
       "    </tr>\n",
       "    <tr>\n",
       "      <th>4</th>\n",
       "      <td>1/25/2020</td>\n",
       "      <td>217000</td>\n",
       "      <td>-6000</td>\n",
       "      <td>0.217</td>\n",
       "      <td>-2.69</td>\n",
       "    </tr>\n",
       "    <tr>\n",
       "      <th>5</th>\n",
       "      <td>2/1/2020</td>\n",
       "      <td>203000</td>\n",
       "      <td>-14000</td>\n",
       "      <td>0.203</td>\n",
       "      <td>-6.45</td>\n",
       "    </tr>\n",
       "    <tr>\n",
       "      <th>6</th>\n",
       "      <td>2/8/2020</td>\n",
       "      <td>206000</td>\n",
       "      <td>3000</td>\n",
       "      <td>0.206</td>\n",
       "      <td>1.48</td>\n",
       "    </tr>\n",
       "    <tr>\n",
       "      <th>7</th>\n",
       "      <td>2/15/2020</td>\n",
       "      <td>211000</td>\n",
       "      <td>5000</td>\n",
       "      <td>0.211</td>\n",
       "      <td>2.43</td>\n",
       "    </tr>\n",
       "    <tr>\n",
       "      <th>8</th>\n",
       "      <td>2/22/2020</td>\n",
       "      <td>219000</td>\n",
       "      <td>8000</td>\n",
       "      <td>0.219</td>\n",
       "      <td>3.79</td>\n",
       "    </tr>\n",
       "    <tr>\n",
       "      <th>9</th>\n",
       "      <td>2/29/2020</td>\n",
       "      <td>215000</td>\n",
       "      <td>-4000</td>\n",
       "      <td>0.215</td>\n",
       "      <td>-1.83</td>\n",
       "    </tr>\n",
       "    <tr>\n",
       "      <th>10</th>\n",
       "      <td>3/7/2020</td>\n",
       "      <td>211000</td>\n",
       "      <td>-4000</td>\n",
       "      <td>0.211</td>\n",
       "      <td>-1.86</td>\n",
       "    </tr>\n",
       "    <tr>\n",
       "      <th>11</th>\n",
       "      <td>3/14/2020</td>\n",
       "      <td>282000</td>\n",
       "      <td>71000</td>\n",
       "      <td>0.282</td>\n",
       "      <td>33.65</td>\n",
       "    </tr>\n",
       "    <tr>\n",
       "      <th>12</th>\n",
       "      <td>3/21/2020</td>\n",
       "      <td>3307000</td>\n",
       "      <td>3025000</td>\n",
       "      <td>3.307</td>\n",
       "      <td>1072.70</td>\n",
       "    </tr>\n",
       "    <tr>\n",
       "      <th>13</th>\n",
       "      <td>3/28/2020</td>\n",
       "      <td>6867000</td>\n",
       "      <td>3560000</td>\n",
       "      <td>6.867</td>\n",
       "      <td>107.65</td>\n",
       "    </tr>\n",
       "    <tr>\n",
       "      <th>14</th>\n",
       "      <td>4/4/2020</td>\n",
       "      <td>6606000</td>\n",
       "      <td>-261000</td>\n",
       "      <td>6.606</td>\n",
       "      <td>-3.80</td>\n",
       "    </tr>\n",
       "    <tr>\n",
       "      <th>15</th>\n",
       "      <td>4/11/2020</td>\n",
       "      <td>5237000</td>\n",
       "      <td>-1361000</td>\n",
       "      <td>5.237</td>\n",
       "      <td>-20.72</td>\n",
       "    </tr>\n",
       "    <tr>\n",
       "      <th>16</th>\n",
       "      <td>4/18/2020</td>\n",
       "      <td>4442000</td>\n",
       "      <td>-810000</td>\n",
       "      <td>4.442</td>\n",
       "      <td>-15.18</td>\n",
       "    </tr>\n",
       "    <tr>\n",
       "      <th>17</th>\n",
       "      <td>4/25/2020</td>\n",
       "      <td>3839000</td>\n",
       "      <td>-603000</td>\n",
       "      <td>3.839</td>\n",
       "      <td>-13.57</td>\n",
       "    </tr>\n",
       "  </tbody>\n",
       "</table>\n",
       "</div>"
      ],
      "text/plain": [
       "   Report Date   Claims   Change  ClaimsMil  Percentage\n",
       "0   12/28/2019   223000    -2000      0.223        0.00\n",
       "1     1/4/2020   214000    -9000      0.214       -4.04\n",
       "2    1/11/2020   205000    -9000      0.205       -4.21\n",
       "3    1/18/2020   223000    18000      0.223        8.78\n",
       "4    1/25/2020   217000    -6000      0.217       -2.69\n",
       "5     2/1/2020   203000   -14000      0.203       -6.45\n",
       "6     2/8/2020   206000     3000      0.206        1.48\n",
       "7    2/15/2020   211000     5000      0.211        2.43\n",
       "8    2/22/2020   219000     8000      0.219        3.79\n",
       "9    2/29/2020   215000    -4000      0.215       -1.83\n",
       "10    3/7/2020   211000    -4000      0.211       -1.86\n",
       "11   3/14/2020   282000    71000      0.282       33.65\n",
       "12   3/21/2020  3307000  3025000      3.307     1072.70\n",
       "13   3/28/2020  6867000  3560000      6.867      107.65\n",
       "14    4/4/2020  6606000  -261000      6.606       -3.80\n",
       "15   4/11/2020  5237000 -1361000      5.237      -20.72\n",
       "16   4/18/2020  4442000  -810000      4.442      -15.18\n",
       "17   4/25/2020  3839000  -603000      3.839      -13.57"
      ]
     },
     "execution_count": 7,
     "metadata": {},
     "output_type": "execute_result"
    }
   ],
   "source": [
    "percentage = [0]\n",
    "for i in range(1,len(df),1):\n",
    "#for i in range(1,5,1):\n",
    "    j = i-1\n",
    "    delta = (df['Claims'][i]-df['Claims'][j])/(df['Claims'][j])\n",
    "    delta = round(delta * 100,2)\n",
    "    #print(round(delta,2))\n",
    "    percentage.append(delta)\n",
    "    \n",
    "df['Percentage'] = percentage\n",
    "\n",
    "df"
   ]
  },
  {
   "cell_type": "code",
   "execution_count": 8,
   "metadata": {},
   "outputs": [
    {
     "data": {
      "text/plain": [
       "Text(0, 0.5, 'Percentage(%)')"
      ]
     },
     "execution_count": 8,
     "metadata": {},
     "output_type": "execute_result"
    },
    {
     "data": {
      "image/png": "[encoded data removed]",
      "text/plain": [
       "<Figure size 432x288 with 1 Axes>"
      ]
     },
     "metadata": {
      "needs_background": "light"
     },
     "output_type": "display_data"
    }
   ],
   "source": [
    "plt.plot(df['Report Date'],df['Percentage'],'*-b')\n",
    "plt.title(\"US - Weekly Unemployment Claims Percentage Changes\",fontsize=14)\n",
    "plt.xlabel(\"Date\")\n",
    "plt.xticks(rotation=90)\n",
    "plt.ylabel(\"Percentage(%)\")"
   ]
  },
  {
   "cell_type": "code",
   "execution_count": 10,
   "metadata": {},
   "outputs": [
    {
     "name": "stdout",
     "output_type": "stream",
     "text": [
      "Total unemployment Claims since COVID-19 Outbreak and Shelter in Place in mid-March: 30,580,000\n"
     ]
    }
   ],
   "source": [
    "totalClaimsCovid19 = df['Claims'][11:18].sum()\n",
    "print(\"Total unemployment Claims since COVID-19 Outbreak and Shelter in Place in mid-March: {:,}\".format(totalClaimsCovid19))"
   ]
  },
  {
   "cell_type": "code",
   "execution_count": null,
   "metadata": {},
   "outputs": [],
   "source": []
  }
 ],
 "metadata": {
  "kernelspec": {
   "display_name": "Python 3",
   "language": "python",
   "name": "python3"
  },
  "language_info": {
   "codemirror_mode": {
    "name": "ipython",
    "version": 3
   },
   "file_extension": ".py",
   "mimetype": "text/x-python",
   "name": "python",
   "nbconvert_exporter": "python",
   "pygments_lexer": "ipython3",
   "version": "3.7.3"
  }
 },
 "nbformat": 4,
 "nbformat_minor": 4
}
