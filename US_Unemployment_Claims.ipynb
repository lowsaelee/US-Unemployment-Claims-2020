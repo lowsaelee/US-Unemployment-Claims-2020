{
 "cells": [
  {
   "cell_type": "markdown",
   "metadata": {},
   "source": [
    "Importing packages"
   ]
  },
  {
   "cell_type": "code",
   "execution_count": 1,
   "metadata": {},
   "outputs": [],
   "source": [
    "import pandas as pd\n",
    "import numpy as np\n",
    "import matplotlib.pyplot as plt"
   ]
  },
  {
   "cell_type": "markdown",
   "metadata": {},
   "source": [
    "Reading in data"
   ]
  },
  {
   "cell_type": "code",
   "execution_count": 2,
   "metadata": {},
   "outputs": [],
   "source": [
    "df = pd.read_csv(\"USUnemploymentClaims.csv\")"
   ]
  },
  {
   "cell_type": "code",
   "execution_count": 3,
   "metadata": {},
   "outputs": [
    {
     "data": {
      "text/html": [
       "<div>\n",
       "<style scoped>\n",
       "    .dataframe tbody tr th:only-of-type {\n",
       "        vertical-align: middle;\n",
       "    }\n",
       "\n",
       "    .dataframe tbody tr th {\n",
       "        vertical-align: top;\n",
       "    }\n",
       "\n",
       "    .dataframe thead th {\n",
       "        text-align: right;\n",
       "    }\n",
       "</style>\n",
       "<table border=\"1\" class=\"dataframe\">\n",
       "  <thead>\n",
       "    <tr style=\"text-align: right;\">\n",
       "      <th></th>\n",
       "      <th>Report Date</th>\n",
       "      <th>Claims</th>\n",
       "      <th>Change</th>\n",
       "    </tr>\n",
       "  </thead>\n",
       "  <tbody>\n",
       "    <tr>\n",
       "      <th>0</th>\n",
       "      <td>12/28/2019</td>\n",
       "      <td>223000</td>\n",
       "      <td>-2000</td>\n",
       "    </tr>\n",
       "    <tr>\n",
       "      <th>1</th>\n",
       "      <td>1/4/2020</td>\n",
       "      <td>214000</td>\n",
       "      <td>-9000</td>\n",
       "    </tr>\n",
       "    <tr>\n",
       "      <th>2</th>\n",
       "      <td>1/11/2020</td>\n",
       "      <td>205000</td>\n",
       "      <td>-9000</td>\n",
       "    </tr>\n",
       "    <tr>\n",
       "      <th>3</th>\n",
       "      <td>1/18/2020</td>\n",
       "      <td>223000</td>\n",
       "      <td>18000</td>\n",
       "    </tr>\n",
       "    <tr>\n",
       "      <th>4</th>\n",
       "      <td>1/25/2020</td>\n",
       "      <td>217000</td>\n",
       "      <td>-6000</td>\n",
       "    </tr>\n",
       "  </tbody>\n",
       "</table>\n",
       "</div>"
      ],
      "text/plain": [
       "  Report Date  Claims  Change\n",
       "0  12/28/2019  223000   -2000\n",
       "1    1/4/2020  214000   -9000\n",
       "2   1/11/2020  205000   -9000\n",
       "3   1/18/2020  223000   18000\n",
       "4   1/25/2020  217000   -6000"
      ]
     },
     "execution_count": 3,
     "metadata": {},
     "output_type": "execute_result"
    }
   ],
   "source": [
    "df.head()"
   ]
  },
  {
   "cell_type": "code",
   "execution_count": 4,
   "metadata": {},
   "outputs": [
    {
     "data": {
      "text/html": [
       "<div>\n",
       "<style scoped>\n",
       "    .dataframe tbody tr th:only-of-type {\n",
       "        vertical-align: middle;\n",
       "    }\n",
       "\n",
       "    .dataframe tbody tr th {\n",
       "        vertical-align: top;\n",
       "    }\n",
       "\n",
       "    .dataframe thead th {\n",
       "        text-align: right;\n",
       "    }\n",
       "</style>\n",
       "<table border=\"1\" class=\"dataframe\">\n",
       "  <thead>\n",
       "    <tr style=\"text-align: right;\">\n",
       "      <th></th>\n",
       "      <th>Report Date</th>\n",
       "      <th>Claims</th>\n",
       "      <th>Change</th>\n",
       "    </tr>\n",
       "  </thead>\n",
       "  <tbody>\n",
       "    <tr>\n",
       "      <th>0</th>\n",
       "      <td>12/28/2019</td>\n",
       "      <td>223000</td>\n",
       "      <td>-2000</td>\n",
       "    </tr>\n",
       "    <tr>\n",
       "      <th>1</th>\n",
       "      <td>1/4/2020</td>\n",
       "      <td>214000</td>\n",
       "      <td>-9000</td>\n",
       "    </tr>\n",
       "    <tr>\n",
       "      <th>2</th>\n",
       "      <td>1/11/2020</td>\n",
       "      <td>205000</td>\n",
       "      <td>-9000</td>\n",
       "    </tr>\n",
       "    <tr>\n",
       "      <th>3</th>\n",
       "      <td>1/18/2020</td>\n",
       "      <td>223000</td>\n",
       "      <td>18000</td>\n",
       "    </tr>\n",
       "    <tr>\n",
       "      <th>4</th>\n",
       "      <td>1/25/2020</td>\n",
       "      <td>217000</td>\n",
       "      <td>-6000</td>\n",
       "    </tr>\n",
       "    <tr>\n",
       "      <th>5</th>\n",
       "      <td>2/1/2020</td>\n",
       "      <td>203000</td>\n",
       "      <td>-14000</td>\n",
       "    </tr>\n",
       "    <tr>\n",
       "      <th>6</th>\n",
       "      <td>2/8/2020</td>\n",
       "      <td>206000</td>\n",
       "      <td>3000</td>\n",
       "    </tr>\n",
       "    <tr>\n",
       "      <th>7</th>\n",
       "      <td>2/15/2020</td>\n",
       "      <td>211000</td>\n",
       "      <td>5000</td>\n",
       "    </tr>\n",
       "    <tr>\n",
       "      <th>8</th>\n",
       "      <td>2/22/2020</td>\n",
       "      <td>219000</td>\n",
       "      <td>8000</td>\n",
       "    </tr>\n",
       "    <tr>\n",
       "      <th>9</th>\n",
       "      <td>2/29/2020</td>\n",
       "      <td>215000</td>\n",
       "      <td>-4000</td>\n",
       "    </tr>\n",
       "    <tr>\n",
       "      <th>10</th>\n",
       "      <td>3/7/2020</td>\n",
       "      <td>211000</td>\n",
       "      <td>-4000</td>\n",
       "    </tr>\n",
       "    <tr>\n",
       "      <th>11</th>\n",
       "      <td>3/14/2020</td>\n",
       "      <td>282000</td>\n",
       "      <td>71000</td>\n",
       "    </tr>\n",
       "    <tr>\n",
       "      <th>12</th>\n",
       "      <td>3/21/2020</td>\n",
       "      <td>3307000</td>\n",
       "      <td>3025000</td>\n",
       "    </tr>\n",
       "    <tr>\n",
       "      <th>13</th>\n",
       "      <td>3/28/2020</td>\n",
       "      <td>6867000</td>\n",
       "      <td>3560000</td>\n",
       "    </tr>\n",
       "    <tr>\n",
       "      <th>14</th>\n",
       "      <td>4/4/2020</td>\n",
       "      <td>6606000</td>\n",
       "      <td>-261000</td>\n",
       "    </tr>\n",
       "    <tr>\n",
       "      <th>15</th>\n",
       "      <td>4/11/2020</td>\n",
       "      <td>5237000</td>\n",
       "      <td>-1361000</td>\n",
       "    </tr>\n",
       "    <tr>\n",
       "      <th>16</th>\n",
       "      <td>4/18/2020</td>\n",
       "      <td>4442000</td>\n",
       "      <td>-810000</td>\n",
       "    </tr>\n",
       "    <tr>\n",
       "      <th>17</th>\n",
       "      <td>4/25/2020</td>\n",
       "      <td>3846000</td>\n",
       "      <td>-603000</td>\n",
       "    </tr>\n",
       "    <tr>\n",
       "      <th>18</th>\n",
       "      <td>5/2/2020</td>\n",
       "      <td>3176000</td>\n",
       "      <td>-677000</td>\n",
       "    </tr>\n",
       "    <tr>\n",
       "      <th>19</th>\n",
       "      <td>5/9/2020</td>\n",
       "      <td>2687000</td>\n",
       "      <td>-195000</td>\n",
       "    </tr>\n",
       "    <tr>\n",
       "      <th>20</th>\n",
       "      <td>5/16/2020</td>\n",
       "      <td>2446000</td>\n",
       "      <td>-249000</td>\n",
       "    </tr>\n",
       "    <tr>\n",
       "      <th>21</th>\n",
       "      <td>5/23/2020</td>\n",
       "      <td>2123000</td>\n",
       "      <td>-323000</td>\n",
       "    </tr>\n",
       "  </tbody>\n",
       "</table>\n",
       "</div>"
      ],
      "text/plain": [
       "   Report Date   Claims   Change\n",
       "0   12/28/2019   223000    -2000\n",
       "1     1/4/2020   214000    -9000\n",
       "2    1/11/2020   205000    -9000\n",
       "3    1/18/2020   223000    18000\n",
       "4    1/25/2020   217000    -6000\n",
       "5     2/1/2020   203000   -14000\n",
       "6     2/8/2020   206000     3000\n",
       "7    2/15/2020   211000     5000\n",
       "8    2/22/2020   219000     8000\n",
       "9    2/29/2020   215000    -4000\n",
       "10    3/7/2020   211000    -4000\n",
       "11   3/14/2020   282000    71000\n",
       "12   3/21/2020  3307000  3025000\n",
       "13   3/28/2020  6867000  3560000\n",
       "14    4/4/2020  6606000  -261000\n",
       "15   4/11/2020  5237000 -1361000\n",
       "16   4/18/2020  4442000  -810000\n",
       "17   4/25/2020  3846000  -603000\n",
       "18    5/2/2020  3176000  -677000\n",
       "19    5/9/2020  2687000  -195000\n",
       "20   5/16/2020  2446000  -249000\n",
       "21   5/23/2020  2123000  -323000"
      ]
     },
     "execution_count": 4,
     "metadata": {},
     "output_type": "execute_result"
    }
   ],
   "source": [
    "df"
   ]
  },
  {
   "cell_type": "code",
   "execution_count": 5,
   "metadata": {},
   "outputs": [
    {
     "data": {
      "image/png": "[encoded data removed]",
      "text/plain": [
       "<Figure size 432x288 with 1 Axes>"
      ]
     },
     "metadata": {
      "needs_background": "light"
     },
     "output_type": "display_data"
    }
   ],
   "source": [
    "import matplotlib as mpl\n",
    "\n",
    "#df['Report Date'] = df['Report Date'].str.slice(0, -5)\n",
    "#print(df['Report Date'][0])\n",
    "\n",
    "df['ClaimsMil'] = df['Claims']/1000000\n",
    "\n",
    "\n",
    "plt.plot(df['Report Date'][1:],df['ClaimsMil'][1:])\n",
    "plt.title(\"US - Weekly Unemployment Claims - 2020\",fontsize=14)\n",
    "plt.xlabel(\"Date\")\n",
    "\n",
    "plt.xticks(rotation=90)\n",
    "\n",
    "plt.ylabel(\"Claims (in Millions)\")\n",
    "plt.grid()\n"
   ]
  },
  {
   "cell_type": "code",
   "execution_count": 13,
   "metadata": {},
   "outputs": [
    {
     "data": {
      "text/plain": [
       "Text(0, 0.5, 'Claims (in Millions)')"
      ]
     },
     "execution_count": 13,
     "metadata": {},
     "output_type": "execute_result"
    },
    {
     "data": {
      "image/png": "[encoded data removed]",
      "text/plain": [
       "<Figure size 1440x720 with 1 Axes>"
      ]
     },
     "metadata": {
      "needs_background": "light"
     },
     "output_type": "display_data"
    }
   ],
   "source": [
    "#df['Report Date'] = df['Report Date'].str.slice(0, -5)\n",
    "#print(df['Report Date'][0])\n",
    "\n",
    "df['ClaimsMil'] = df['Claims']/1000000\n",
    "\n",
    "plt.figure(figsize=(20,10))\n",
    "\n",
    "plt.bar(df['Report Date'][12:],df['ClaimsMil'][12:],color='#70AD47')\n",
    "#plt.title(\"US - Weekly Unemployment Claims - 2020\",fontsize=14)\n",
    "#plt.xlabel(\"Date\")\n",
    "\n",
    "labels = ['MAR 21', 'MAR 28', 'APR 4', 'APR 11', 'APR 18', 'APR 25', 'MAY 2', 'MAY 9','MAY 16','MAY 23']\n",
    "plt.xticks(range(len(labels)), labels)\n",
    "#plt.xticks(rotation=45)\n",
    "plt.xticks(fontsize=14)\n",
    "\n",
    "plt.yticks(fontsize=14)\n",
    "plt.ylabel(\"Claims (in Millions)\", fontsize=14)\n"
   ]
  },
  {
   "cell_type": "code",
   "execution_count": 7,
   "metadata": {},
   "outputs": [
    {
     "data": {
      "text/plain": [
       "Text(0, 0.5, 'Claims')"
      ]
     },
     "execution_count": 7,
     "metadata": {},
     "output_type": "execute_result"
    },
    {
     "data": {
      "image/png": "[encoded data removed]",
      "text/plain": [
       "<Figure size 432x288 with 1 Axes>"
      ]
     },
     "metadata": {
      "needs_background": "light"
     },
     "output_type": "display_data"
    }
   ],
   "source": [
    "plt.plot(df['Report Date'],df['Change'],'*-b')\n",
    "plt.title(\"US - Weekly Unemployment Claims Changes\",fontsize=14)\n",
    "plt.xlabel(\"Date\")\n",
    "plt.xticks(rotation=90)\n",
    "plt.ylabel(\"Claims\")"
   ]
  },
  {
   "cell_type": "code",
   "execution_count": 8,
   "metadata": {},
   "outputs": [
    {
     "data": {
      "text/html": [
       "<div>\n",
       "<style scoped>\n",
       "    .dataframe tbody tr th:only-of-type {\n",
       "        vertical-align: middle;\n",
       "    }\n",
       "\n",
       "    .dataframe tbody tr th {\n",
       "        vertical-align: top;\n",
       "    }\n",
       "\n",
       "    .dataframe thead th {\n",
       "        text-align: right;\n",
       "    }\n",
       "</style>\n",
       "<table border=\"1\" class=\"dataframe\">\n",
       "  <thead>\n",
       "    <tr style=\"text-align: right;\">\n",
       "      <th></th>\n",
       "      <th>Report Date</th>\n",
       "      <th>Claims</th>\n",
       "      <th>Change</th>\n",
       "      <th>ClaimsMil</th>\n",
       "      <th>Percentage</th>\n",
       "    </tr>\n",
       "  </thead>\n",
       "  <tbody>\n",
       "    <tr>\n",
       "      <th>0</th>\n",
       "      <td>12/28/2019</td>\n",
       "      <td>223000</td>\n",
       "      <td>-2000</td>\n",
       "      <td>0.223</td>\n",
       "      <td>0.00</td>\n",
       "    </tr>\n",
       "    <tr>\n",
       "      <th>1</th>\n",
       "      <td>1/4/2020</td>\n",
       "      <td>214000</td>\n",
       "      <td>-9000</td>\n",
       "      <td>0.214</td>\n",
       "      <td>-4.04</td>\n",
       "    </tr>\n",
       "    <tr>\n",
       "      <th>2</th>\n",
       "      <td>1/11/2020</td>\n",
       "      <td>205000</td>\n",
       "      <td>-9000</td>\n",
       "      <td>0.205</td>\n",
       "      <td>-4.21</td>\n",
       "    </tr>\n",
       "    <tr>\n",
       "      <th>3</th>\n",
       "      <td>1/18/2020</td>\n",
       "      <td>223000</td>\n",
       "      <td>18000</td>\n",
       "      <td>0.223</td>\n",
       "      <td>8.78</td>\n",
       "    </tr>\n",
       "    <tr>\n",
       "      <th>4</th>\n",
       "      <td>1/25/2020</td>\n",
       "      <td>217000</td>\n",
       "      <td>-6000</td>\n",
       "      <td>0.217</td>\n",
       "      <td>-2.69</td>\n",
       "    </tr>\n",
       "    <tr>\n",
       "      <th>5</th>\n",
       "      <td>2/1/2020</td>\n",
       "      <td>203000</td>\n",
       "      <td>-14000</td>\n",
       "      <td>0.203</td>\n",
       "      <td>-6.45</td>\n",
       "    </tr>\n",
       "    <tr>\n",
       "      <th>6</th>\n",
       "      <td>2/8/2020</td>\n",
       "      <td>206000</td>\n",
       "      <td>3000</td>\n",
       "      <td>0.206</td>\n",
       "      <td>1.48</td>\n",
       "    </tr>\n",
       "    <tr>\n",
       "      <th>7</th>\n",
       "      <td>2/15/2020</td>\n",
       "      <td>211000</td>\n",
       "      <td>5000</td>\n",
       "      <td>0.211</td>\n",
       "      <td>2.43</td>\n",
       "    </tr>\n",
       "    <tr>\n",
       "      <th>8</th>\n",
       "      <td>2/22/2020</td>\n",
       "      <td>219000</td>\n",
       "      <td>8000</td>\n",
       "      <td>0.219</td>\n",
       "      <td>3.79</td>\n",
       "    </tr>\n",
       "    <tr>\n",
       "      <th>9</th>\n",
       "      <td>2/29/2020</td>\n",
       "      <td>215000</td>\n",
       "      <td>-4000</td>\n",
       "      <td>0.215</td>\n",
       "      <td>-1.83</td>\n",
       "    </tr>\n",
       "    <tr>\n",
       "      <th>10</th>\n",
       "      <td>3/7/2020</td>\n",
       "      <td>211000</td>\n",
       "      <td>-4000</td>\n",
       "      <td>0.211</td>\n",
       "      <td>-1.86</td>\n",
       "    </tr>\n",
       "    <tr>\n",
       "      <th>11</th>\n",
       "      <td>3/14/2020</td>\n",
       "      <td>282000</td>\n",
       "      <td>71000</td>\n",
       "      <td>0.282</td>\n",
       "      <td>33.65</td>\n",
       "    </tr>\n",
       "    <tr>\n",
       "      <th>12</th>\n",
       "      <td>3/21/2020</td>\n",
       "      <td>3307000</td>\n",
       "      <td>3025000</td>\n",
       "      <td>3.307</td>\n",
       "      <td>1072.70</td>\n",
       "    </tr>\n",
       "    <tr>\n",
       "      <th>13</th>\n",
       "      <td>3/28/2020</td>\n",
       "      <td>6867000</td>\n",
       "      <td>3560000</td>\n",
       "      <td>6.867</td>\n",
       "      <td>107.65</td>\n",
       "    </tr>\n",
       "    <tr>\n",
       "      <th>14</th>\n",
       "      <td>4/4/2020</td>\n",
       "      <td>6606000</td>\n",
       "      <td>-261000</td>\n",
       "      <td>6.606</td>\n",
       "      <td>-3.80</td>\n",
       "    </tr>\n",
       "    <tr>\n",
       "      <th>15</th>\n",
       "      <td>4/11/2020</td>\n",
       "      <td>5237000</td>\n",
       "      <td>-1361000</td>\n",
       "      <td>5.237</td>\n",
       "      <td>-20.72</td>\n",
       "    </tr>\n",
       "    <tr>\n",
       "      <th>16</th>\n",
       "      <td>4/18/2020</td>\n",
       "      <td>4442000</td>\n",
       "      <td>-810000</td>\n",
       "      <td>4.442</td>\n",
       "      <td>-15.18</td>\n",
       "    </tr>\n",
       "    <tr>\n",
       "      <th>17</th>\n",
       "      <td>4/25/2020</td>\n",
       "      <td>3846000</td>\n",
       "      <td>-603000</td>\n",
       "      <td>3.846</td>\n",
       "      <td>-13.42</td>\n",
       "    </tr>\n",
       "    <tr>\n",
       "      <th>18</th>\n",
       "      <td>5/2/2020</td>\n",
       "      <td>3176000</td>\n",
       "      <td>-677000</td>\n",
       "      <td>3.176</td>\n",
       "      <td>-17.42</td>\n",
       "    </tr>\n",
       "    <tr>\n",
       "      <th>19</th>\n",
       "      <td>5/9/2020</td>\n",
       "      <td>2687000</td>\n",
       "      <td>-195000</td>\n",
       "      <td>2.687</td>\n",
       "      <td>-15.40</td>\n",
       "    </tr>\n",
       "    <tr>\n",
       "      <th>20</th>\n",
       "      <td>5/16/2020</td>\n",
       "      <td>2446000</td>\n",
       "      <td>-249000</td>\n",
       "      <td>2.446</td>\n",
       "      <td>-8.97</td>\n",
       "    </tr>\n",
       "    <tr>\n",
       "      <th>21</th>\n",
       "      <td>5/23/2020</td>\n",
       "      <td>2123000</td>\n",
       "      <td>-323000</td>\n",
       "      <td>2.123</td>\n",
       "      <td>-13.21</td>\n",
       "    </tr>\n",
       "  </tbody>\n",
       "</table>\n",
       "</div>"
      ],
      "text/plain": [
       "   Report Date   Claims   Change  ClaimsMil  Percentage\n",
       "0   12/28/2019   223000    -2000      0.223        0.00\n",
       "1     1/4/2020   214000    -9000      0.214       -4.04\n",
       "2    1/11/2020   205000    -9000      0.205       -4.21\n",
       "3    1/18/2020   223000    18000      0.223        8.78\n",
       "4    1/25/2020   217000    -6000      0.217       -2.69\n",
       "5     2/1/2020   203000   -14000      0.203       -6.45\n",
       "6     2/8/2020   206000     3000      0.206        1.48\n",
       "7    2/15/2020   211000     5000      0.211        2.43\n",
       "8    2/22/2020   219000     8000      0.219        3.79\n",
       "9    2/29/2020   215000    -4000      0.215       -1.83\n",
       "10    3/7/2020   211000    -4000      0.211       -1.86\n",
       "11   3/14/2020   282000    71000      0.282       33.65\n",
       "12   3/21/2020  3307000  3025000      3.307     1072.70\n",
       "13   3/28/2020  6867000  3560000      6.867      107.65\n",
       "14    4/4/2020  6606000  -261000      6.606       -3.80\n",
       "15   4/11/2020  5237000 -1361000      5.237      -20.72\n",
       "16   4/18/2020  4442000  -810000      4.442      -15.18\n",
       "17   4/25/2020  3846000  -603000      3.846      -13.42\n",
       "18    5/2/2020  3176000  -677000      3.176      -17.42\n",
       "19    5/9/2020  2687000  -195000      2.687      -15.40\n",
       "20   5/16/2020  2446000  -249000      2.446       -8.97\n",
       "21   5/23/2020  2123000  -323000      2.123      -13.21"
      ]
     },
     "execution_count": 8,
     "metadata": {},
     "output_type": "execute_result"
    }
   ],
   "source": [
    "percentage = [0]\n",
    "for i in range(1,len(df),1):\n",
    "#for i in range(1,5,1):\n",
    "    j = i-1\n",
    "    delta = (df['Claims'][i]-df['Claims'][j])/(df['Claims'][j])\n",
    "    delta = round(delta * 100,2)\n",
    "    #print(round(delta,2))\n",
    "    percentage.append(delta)\n",
    "    \n",
    "df['Percentage'] = percentage\n",
    "\n",
    "df"
   ]
  },
  {
   "cell_type": "code",
   "execution_count": 9,
   "metadata": {},
   "outputs": [
    {
     "data": {
      "text/plain": [
       "Text(0, 0.5, 'Percentage(%)')"
      ]
     },
     "execution_count": 9,
     "metadata": {},
     "output_type": "execute_result"
    },
    {
     "data": {
      "image/png": "[encoded data removed]",
      "text/plain": [
       "<Figure size 432x288 with 1 Axes>"
      ]
     },
     "metadata": {
      "needs_background": "light"
     },
     "output_type": "display_data"
    }
   ],
   "source": [
    "plt.plot(df['Report Date'],df['Percentage'],'*-b')\n",
    "plt.title(\"US - Weekly Unemployment Claims Percentage Changes\",fontsize=14)\n",
    "plt.xlabel(\"Date\")\n",
    "plt.xticks(rotation=90)\n",
    "plt.ylabel(\"Percentage(%)\")"
   ]
  },
  {
   "cell_type": "code",
   "execution_count": 24,
   "metadata": {},
   "outputs": [
    {
     "name": "stdout",
     "output_type": "stream",
     "text": [
      "Total unemployment claims since COVID-19 outbreak and Shelter in Place in mid-March: 41,019,000\n"
     ]
    }
   ],
   "source": [
    "totalClaimsCovid19 = df['Claims'][11:].sum()\n",
    "print(\"Total unemployment claims since COVID-19 outbreak and Shelter in Place in mid-March: {:,}\".format(totalClaimsCovid19))"
   ]
  },
  {
   "cell_type": "code",
   "execution_count": 11,
   "metadata": {},
   "outputs": [
    {
     "name": "stdout",
     "output_type": "stream",
     "text": [
      "[205000, 428000, 645000, 848000, 1054000, 1265000, 1484000, 1699000, 1910000, 2192000, 5499000, 12366000, 18972000, 24209000, 28651000, 32497000, 35673000, 38360000, 40806000, 42929000]\n",
      "20\n",
      "223000\n"
     ]
    }
   ],
   "source": [
    "running_total = []\n",
    "for i in range(len(df)+1):\n",
    "    #print(i)\n",
    "    if df['Claims'][2:i].sum() != 0:\n",
    "        running_total.append(df['Claims'][2:i].sum())\n",
    "    \n",
    "print(running_total)\n",
    "print(len(running_total))\n",
    "print(df['Claims'][0:1].sum())\n"
   ]
  },
  {
   "cell_type": "code",
   "execution_count": 14,
   "metadata": {},
   "outputs": [
    {
     "data": {
      "text/html": [
       "<div>\n",
       "<style scoped>\n",
       "    .dataframe tbody tr th:only-of-type {\n",
       "        vertical-align: middle;\n",
       "    }\n",
       "\n",
       "    .dataframe tbody tr th {\n",
       "        vertical-align: top;\n",
       "    }\n",
       "\n",
       "    .dataframe thead th {\n",
       "        text-align: right;\n",
       "    }\n",
       "</style>\n",
       "<table border=\"1\" class=\"dataframe\">\n",
       "  <thead>\n",
       "    <tr style=\"text-align: right;\">\n",
       "      <th></th>\n",
       "      <th>Claims</th>\n",
       "      <th>Dates</th>\n",
       "    </tr>\n",
       "  </thead>\n",
       "  <tbody>\n",
       "    <tr>\n",
       "      <th>0</th>\n",
       "      <td>205000</td>\n",
       "      <td>JAN 11</td>\n",
       "    </tr>\n",
       "    <tr>\n",
       "      <th>1</th>\n",
       "      <td>428000</td>\n",
       "      <td>JAN 18</td>\n",
       "    </tr>\n",
       "    <tr>\n",
       "      <th>2</th>\n",
       "      <td>645000</td>\n",
       "      <td>JAN 25</td>\n",
       "    </tr>\n",
       "    <tr>\n",
       "      <th>3</th>\n",
       "      <td>848000</td>\n",
       "      <td>FEB 1</td>\n",
       "    </tr>\n",
       "    <tr>\n",
       "      <th>4</th>\n",
       "      <td>1054000</td>\n",
       "      <td>FEB 8</td>\n",
       "    </tr>\n",
       "    <tr>\n",
       "      <th>5</th>\n",
       "      <td>1265000</td>\n",
       "      <td>FEB 15</td>\n",
       "    </tr>\n",
       "    <tr>\n",
       "      <th>6</th>\n",
       "      <td>1484000</td>\n",
       "      <td>FEB 22</td>\n",
       "    </tr>\n",
       "    <tr>\n",
       "      <th>7</th>\n",
       "      <td>1699000</td>\n",
       "      <td>FEB 29</td>\n",
       "    </tr>\n",
       "    <tr>\n",
       "      <th>8</th>\n",
       "      <td>1910000</td>\n",
       "      <td>MAR 7</td>\n",
       "    </tr>\n",
       "    <tr>\n",
       "      <th>9</th>\n",
       "      <td>2192000</td>\n",
       "      <td>MAR 14</td>\n",
       "    </tr>\n",
       "    <tr>\n",
       "      <th>10</th>\n",
       "      <td>5499000</td>\n",
       "      <td>MAR 21</td>\n",
       "    </tr>\n",
       "    <tr>\n",
       "      <th>11</th>\n",
       "      <td>12366000</td>\n",
       "      <td>MAR 28</td>\n",
       "    </tr>\n",
       "    <tr>\n",
       "      <th>12</th>\n",
       "      <td>18972000</td>\n",
       "      <td>APR 4</td>\n",
       "    </tr>\n",
       "    <tr>\n",
       "      <th>13</th>\n",
       "      <td>24209000</td>\n",
       "      <td>APR 11</td>\n",
       "    </tr>\n",
       "    <tr>\n",
       "      <th>14</th>\n",
       "      <td>28651000</td>\n",
       "      <td>APR 18</td>\n",
       "    </tr>\n",
       "    <tr>\n",
       "      <th>15</th>\n",
       "      <td>32497000</td>\n",
       "      <td>APR 25</td>\n",
       "    </tr>\n",
       "    <tr>\n",
       "      <th>16</th>\n",
       "      <td>35673000</td>\n",
       "      <td>MAY 2</td>\n",
       "    </tr>\n",
       "    <tr>\n",
       "      <th>17</th>\n",
       "      <td>38360000</td>\n",
       "      <td>MAY 9</td>\n",
       "    </tr>\n",
       "    <tr>\n",
       "      <th>18</th>\n",
       "      <td>40806000</td>\n",
       "      <td>MAY 16</td>\n",
       "    </tr>\n",
       "    <tr>\n",
       "      <th>19</th>\n",
       "      <td>42929000</td>\n",
       "      <td>MAY 23</td>\n",
       "    </tr>\n",
       "  </tbody>\n",
       "</table>\n",
       "</div>"
      ],
      "text/plain": [
       "      Claims   Dates\n",
       "0     205000  JAN 11\n",
       "1     428000  JAN 18\n",
       "2     645000  JAN 25\n",
       "3     848000   FEB 1\n",
       "4    1054000   FEB 8\n",
       "5    1265000  FEB 15\n",
       "6    1484000  FEB 22\n",
       "7    1699000  FEB 29\n",
       "8    1910000   MAR 7\n",
       "9    2192000  MAR 14\n",
       "10   5499000  MAR 21\n",
       "11  12366000  MAR 28\n",
       "12  18972000   APR 4\n",
       "13  24209000  APR 11\n",
       "14  28651000  APR 18\n",
       "15  32497000  APR 25\n",
       "16  35673000   MAY 2\n",
       "17  38360000   MAY 9\n",
       "18  40806000  MAY 16\n",
       "19  42929000  MAY 23"
      ]
     },
     "execution_count": 14,
     "metadata": {},
     "output_type": "execute_result"
    }
   ],
   "source": [
    "labels = ['JAN 11','JAN 18','JAN 25','FEB 1','FEB 8','FEB 15','FEB 22','FEB 29','MAR 7','MAR 14','MAR 21', 'MAR 28', 'APR 4', 'APR 11', 'APR 18', 'APR 25', 'MAY 2', 'MAY 9','MAY 16','MAY 23']\n",
    "\n",
    "df_running_total = pd.DataFrame({'Claims':running_total,'Dates':labels})\n",
    "df_running_total"
   ]
  },
  {
   "cell_type": "code",
   "execution_count": 21,
   "metadata": {},
   "outputs": [
    {
     "data": {
      "text/plain": [
       "([0, 1, 2, 3, 4, 5, 6, 7, 8, 9, 10, 11, 12, 13, 14, 15, 16, 17, 18],\n",
       " <a list of 19 Text xticklabel objects>)"
      ]
     },
     "execution_count": 21,
     "metadata": {},
     "output_type": "execute_result"
    },
    {
     "data": {
      "image/png": "[encoded data removed]",
      "text/plain": [
       "<Figure size 432x288 with 1 Axes>"
      ]
     },
     "metadata": {
      "needs_background": "light"
     },
     "output_type": "display_data"
    }
   ],
   "source": [
    "start = 1\n",
    "plt.bar(df_running_total['Dates'][start:],(df_running_total['Claims'][start:]/1000000))\n",
    "plt.title(\"Unemployment Claims Running Total\")\n",
    "plt.ylabel(\"Claims (in Millions)\")\n",
    "plt.xticks(rotation=90)"
   ]
  },
  {
   "cell_type": "code",
   "execution_count": 20,
   "metadata": {},
   "outputs": [
    {
     "data": {
      "text/plain": [
       "([0, 1, 2, 3, 4, 5, 6, 7, 8, 9, 10, 11, 12, 13, 14, 15, 16, 17, 18],\n",
       " <a list of 19 Text xticklabel objects>)"
      ]
     },
     "execution_count": 20,
     "metadata": {},
     "output_type": "execute_result"
    },
    {
     "data": {
      "image/png": "[encoded data removed]",
      "text/plain": [
       "<Figure size 432x288 with 1 Axes>"
      ]
     },
     "metadata": {
      "needs_background": "light"
     },
     "output_type": "display_data"
    }
   ],
   "source": [
    "start = 1\n",
    "plt.plot(df_running_total['Dates'][start:],(df_running_total['Claims'][start:]/1000000))\n",
    "plt.title(\"Unemployment Claims Running Total\")\n",
    "plt.ylabel(\"Claims (in Millions)\")\n",
    "plt.xticks(rotation=90)"
   ]
  },
  {
   "cell_type": "code",
   "execution_count": null,
   "metadata": {},
   "outputs": [],
   "source": []
  }
 ],
 "metadata": {
  "kernelspec": {
   "display_name": "Python 3",
   "language": "python",
   "name": "python3"
  },
  "language_info": {
   "codemirror_mode": {
    "name": "ipython",
    "version": 3
   },
   "file_extension": ".py",
   "mimetype": "text/x-python",
   "name": "python",
   "nbconvert_exporter": "python",
   "pygments_lexer": "ipython3",
   "version": "3.7.3"
  }
 },
 "nbformat": 4,
 "nbformat_minor": 4
}
