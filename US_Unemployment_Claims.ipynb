{
 "cells": [
  {
   "cell_type": "markdown",
   "metadata": {},
   "source": [
    "Importing packages"
   ]
  },
  {
   "cell_type": "code",
   "execution_count": 1,
   "metadata": {},
   "outputs": [],
   "source": [
    "import pandas as pd\n",
    "import numpy as np\n",
    "import matplotlib.pyplot as plt"
   ]
  },
  {
   "cell_type": "markdown",
   "metadata": {},
   "source": [
    "Reading in data"
   ]
  },
  {
   "cell_type": "code",
   "execution_count": 2,
   "metadata": {},
   "outputs": [],
   "source": [
    "df = pd.read_csv(\"USUnemploymentClaims.csv\")"
   ]
  },
  {
   "cell_type": "code",
   "execution_count": 3,
   "metadata": {},
   "outputs": [
    {
     "data": {
      "text/html": [
       "<div>\n",
       "<style scoped>\n",
       "    .dataframe tbody tr th:only-of-type {\n",
       "        vertical-align: middle;\n",
       "    }\n",
       "\n",
       "    .dataframe tbody tr th {\n",
       "        vertical-align: top;\n",
       "    }\n",
       "\n",
       "    .dataframe thead th {\n",
       "        text-align: right;\n",
       "    }\n",
       "</style>\n",
       "<table border=\"1\" class=\"dataframe\">\n",
       "  <thead>\n",
       "    <tr style=\"text-align: right;\">\n",
       "      <th></th>\n",
       "      <th>Report Date</th>\n",
       "      <th>Claims</th>\n",
       "      <th>Change</th>\n",
       "    </tr>\n",
       "  </thead>\n",
       "  <tbody>\n",
       "    <tr>\n",
       "      <th>0</th>\n",
       "      <td>12/28/2019</td>\n",
       "      <td>223000</td>\n",
       "      <td>-2000</td>\n",
       "    </tr>\n",
       "    <tr>\n",
       "      <th>1</th>\n",
       "      <td>1/4/2020</td>\n",
       "      <td>214000</td>\n",
       "      <td>-9000</td>\n",
       "    </tr>\n",
       "    <tr>\n",
       "      <th>2</th>\n",
       "      <td>1/11/2020</td>\n",
       "      <td>205000</td>\n",
       "      <td>-9000</td>\n",
       "    </tr>\n",
       "    <tr>\n",
       "      <th>3</th>\n",
       "      <td>1/18/2020</td>\n",
       "      <td>223000</td>\n",
       "      <td>18000</td>\n",
       "    </tr>\n",
       "    <tr>\n",
       "      <th>4</th>\n",
       "      <td>1/25/2020</td>\n",
       "      <td>217000</td>\n",
       "      <td>-6000</td>\n",
       "    </tr>\n",
       "  </tbody>\n",
       "</table>\n",
       "</div>"
      ],
      "text/plain": [
       "  Report Date  Claims  Change\n",
       "0  12/28/2019  223000   -2000\n",
       "1    1/4/2020  214000   -9000\n",
       "2   1/11/2020  205000   -9000\n",
       "3   1/18/2020  223000   18000\n",
       "4   1/25/2020  217000   -6000"
      ]
     },
     "execution_count": 3,
     "metadata": {},
     "output_type": "execute_result"
    }
   ],
   "source": [
    "df.head()"
   ]
  },
  {
   "cell_type": "code",
   "execution_count": 4,
   "metadata": {},
   "outputs": [
    {
     "data": {
      "text/html": [
       "<div>\n",
       "<style scoped>\n",
       "    .dataframe tbody tr th:only-of-type {\n",
       "        vertical-align: middle;\n",
       "    }\n",
       "\n",
       "    .dataframe tbody tr th {\n",
       "        vertical-align: top;\n",
       "    }\n",
       "\n",
       "    .dataframe thead th {\n",
       "        text-align: right;\n",
       "    }\n",
       "</style>\n",
       "<table border=\"1\" class=\"dataframe\">\n",
       "  <thead>\n",
       "    <tr style=\"text-align: right;\">\n",
       "      <th></th>\n",
       "      <th>Report Date</th>\n",
       "      <th>Claims</th>\n",
       "      <th>Change</th>\n",
       "    </tr>\n",
       "  </thead>\n",
       "  <tbody>\n",
       "    <tr>\n",
       "      <th>0</th>\n",
       "      <td>12/28/2019</td>\n",
       "      <td>223000</td>\n",
       "      <td>-2000</td>\n",
       "    </tr>\n",
       "    <tr>\n",
       "      <th>1</th>\n",
       "      <td>1/4/2020</td>\n",
       "      <td>214000</td>\n",
       "      <td>-9000</td>\n",
       "    </tr>\n",
       "    <tr>\n",
       "      <th>2</th>\n",
       "      <td>1/11/2020</td>\n",
       "      <td>205000</td>\n",
       "      <td>-9000</td>\n",
       "    </tr>\n",
       "    <tr>\n",
       "      <th>3</th>\n",
       "      <td>1/18/2020</td>\n",
       "      <td>223000</td>\n",
       "      <td>18000</td>\n",
       "    </tr>\n",
       "    <tr>\n",
       "      <th>4</th>\n",
       "      <td>1/25/2020</td>\n",
       "      <td>217000</td>\n",
       "      <td>-6000</td>\n",
       "    </tr>\n",
       "    <tr>\n",
       "      <th>5</th>\n",
       "      <td>2/1/2020</td>\n",
       "      <td>203000</td>\n",
       "      <td>-14000</td>\n",
       "    </tr>\n",
       "    <tr>\n",
       "      <th>6</th>\n",
       "      <td>2/8/2020</td>\n",
       "      <td>206000</td>\n",
       "      <td>3000</td>\n",
       "    </tr>\n",
       "    <tr>\n",
       "      <th>7</th>\n",
       "      <td>2/15/2020</td>\n",
       "      <td>211000</td>\n",
       "      <td>5000</td>\n",
       "    </tr>\n",
       "    <tr>\n",
       "      <th>8</th>\n",
       "      <td>2/22/2020</td>\n",
       "      <td>219000</td>\n",
       "      <td>8000</td>\n",
       "    </tr>\n",
       "    <tr>\n",
       "      <th>9</th>\n",
       "      <td>2/29/2020</td>\n",
       "      <td>215000</td>\n",
       "      <td>-4000</td>\n",
       "    </tr>\n",
       "    <tr>\n",
       "      <th>10</th>\n",
       "      <td>3/7/2020</td>\n",
       "      <td>211000</td>\n",
       "      <td>-4000</td>\n",
       "    </tr>\n",
       "    <tr>\n",
       "      <th>11</th>\n",
       "      <td>3/14/2020</td>\n",
       "      <td>282000</td>\n",
       "      <td>71000</td>\n",
       "    </tr>\n",
       "    <tr>\n",
       "      <th>12</th>\n",
       "      <td>3/21/2020</td>\n",
       "      <td>3307000</td>\n",
       "      <td>3025000</td>\n",
       "    </tr>\n",
       "    <tr>\n",
       "      <th>13</th>\n",
       "      <td>3/28/2020</td>\n",
       "      <td>6867000</td>\n",
       "      <td>3560000</td>\n",
       "    </tr>\n",
       "    <tr>\n",
       "      <th>14</th>\n",
       "      <td>4/4/2020</td>\n",
       "      <td>6606000</td>\n",
       "      <td>-261000</td>\n",
       "    </tr>\n",
       "    <tr>\n",
       "      <th>15</th>\n",
       "      <td>4/11/2020</td>\n",
       "      <td>5237000</td>\n",
       "      <td>-1361000</td>\n",
       "    </tr>\n",
       "    <tr>\n",
       "      <th>16</th>\n",
       "      <td>4/18/2020</td>\n",
       "      <td>4427000</td>\n",
       "      <td>-810000</td>\n",
       "    </tr>\n",
       "  </tbody>\n",
       "</table>\n",
       "</div>"
      ],
      "text/plain": [
       "   Report Date   Claims   Change\n",
       "0   12/28/2019   223000    -2000\n",
       "1     1/4/2020   214000    -9000\n",
       "2    1/11/2020   205000    -9000\n",
       "3    1/18/2020   223000    18000\n",
       "4    1/25/2020   217000    -6000\n",
       "5     2/1/2020   203000   -14000\n",
       "6     2/8/2020   206000     3000\n",
       "7    2/15/2020   211000     5000\n",
       "8    2/22/2020   219000     8000\n",
       "9    2/29/2020   215000    -4000\n",
       "10    3/7/2020   211000    -4000\n",
       "11   3/14/2020   282000    71000\n",
       "12   3/21/2020  3307000  3025000\n",
       "13   3/28/2020  6867000  3560000\n",
       "14    4/4/2020  6606000  -261000\n",
       "15   4/11/2020  5237000 -1361000\n",
       "16   4/18/2020  4427000  -810000"
      ]
     },
     "execution_count": 4,
     "metadata": {},
     "output_type": "execute_result"
    }
   ],
   "source": [
    "df"
   ]
  },
  {
   "cell_type": "code",
   "execution_count": 24,
   "metadata": {},
   "outputs": [
    {
     "name": "stdout",
     "output_type": "stream",
     "text": [
      "12/28\n"
     ]
    },
    {
     "data": {
      "image/png": "[encoded data removed]",
      "text/plain": [
       "<Figure size 432x288 with 1 Axes>"
      ]
     },
     "metadata": {
      "needs_background": "light"
     },
     "output_type": "display_data"
    }
   ],
   "source": [
    "import matplotlib as mpl\n",
    "\n",
    "#df['Report Date'] = df['Report Date'].str.slice(0, -5)\n",
    "print(df['Report Date'][0])\n",
    "\n",
    "\n",
    "\n",
    "plt.plot(df['Report Date'][1:],df['Claims'][1:])\n",
    "plt.title(\"US - Weekly Unemployment Claims - 2020\",fontsize=14)\n",
    "plt.xlabel(\"Date\")\n",
    "\n",
    "plt.xticks(rotation=90)\n",
    "\n",
    "plt.ylabel(\"Claims\")\n",
    "#plt.yticks(np.arange(0,10000000,1000000))\n",
    "#plt.yticks([0, 1],[\"1,000,000\",\"2,000,000\",\"3,000,000\",\"4,000,000\",\"5,000,000\",\"6,000,000\",\"7,000,000\"])\n",
    "plt.grid()"
   ]
  },
  {
   "cell_type": "code",
   "execution_count": null,
   "metadata": {},
   "outputs": [],
   "source": [
    "plt.plot(df['Report Date'],df['Change'],'*-b')\n",
    "plt.title(\"US - Weekly Unemployment Claims Changes\",fontsize=14)\n",
    "plt.xlabel(\"Date\")\n",
    "plt.xticks(rotation=90)\n",
    "plt.ylabel(\"Claims\")"
   ]
  },
  {
   "cell_type": "code",
   "execution_count": null,
   "metadata": {},
   "outputs": [],
   "source": [
    "percentage = [0]\n",
    "for i in range(1,len(df),1):\n",
    "#for i in range(1,5,1):\n",
    "    j = i-1\n",
    "    delta = (df['Claims'][i]-df['Claims'][j])/(df['Claims'][j])\n",
    "    delta = round(delta * 100,2)\n",
    "    #print(round(delta,2))\n",
    "    percentage.append(delta)\n",
    "    \n",
    "df['Percentage'] = percentage\n",
    "\n",
    "df"
   ]
  },
  {
   "cell_type": "code",
   "execution_count": null,
   "metadata": {},
   "outputs": [],
   "source": [
    "plt.plot(df['Report Date'],df['Percentage'],'*-b')\n",
    "plt.title(\"US - Weekly Unemployment Claims Percentage Changes\",fontsize=14)\n",
    "plt.xlabel(\"Date\")\n",
    "plt.xticks(rotation=90)\n",
    "plt.ylabel(\"Percentage(%)\")"
   ]
  },
  {
   "cell_type": "code",
   "execution_count": null,
   "metadata": {},
   "outputs": [],
   "source": [
    "totalClaimsCovid19 = df['Claims'][11:17].sum()\n",
    "print(\"Total unemployment Claims since COVID-19 Outbreak and Shelter in Place in mid-March: {:,}\".format(totalClaimsCovid19))"
   ]
  },
  {
   "cell_type": "code",
   "execution_count": null,
   "metadata": {},
   "outputs": [],
   "source": []
  }
 ],
 "metadata": {
  "kernelspec": {
   "display_name": "Python 3",
   "language": "python",
   "name": "python3"
  },
  "language_info": {
   "codemirror_mode": {
    "name": "ipython",
    "version": 3
   },
   "file_extension": ".py",
   "mimetype": "text/x-python",
   "name": "python",
   "nbconvert_exporter": "python",
   "pygments_lexer": "ipython3",
   "version": "3.7.3"
  }
 },
 "nbformat": 4,
 "nbformat_minor": 4
}
